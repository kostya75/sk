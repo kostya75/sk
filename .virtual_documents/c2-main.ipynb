


import pandas as pd
import numpy as np
import matplotlib.pyplot as plt





from sklearn.model_selection import train_test_split


housing=pd.read_csv("datasets/housing/housing.csv")





housing.head()


housing.describe()
#print(housing.info())


housing.ocean_proximity.value_counts()


housing.hist(bins=50, figsize=(20,15))
plt.show()



train_set, test_set = train_test_split(housing, test_size=0.2, random_state=42)


train_set


#p57


# Stratified sampling


from sklearn.model_selection import StratifiedShuffleSplit


housing['income_cat']=pd.cut(housing['median_income'], bins=[0., 1.5,3.0, 4.5, 6.0, np.inf], labels=[1,2,3,4,5])
housing.head()


split=StratifiedShuffleSplit(n_splits=1, random_state=42, test_size=.2)


# this a generator and needs to be looped over or list(split.split(housing,housing['income_cat']))[0][0].tolist()
for train_index, test_index in split.split(housing,housing['income_cat']):
    strat_train_set=housing.iloc[train_index]
    strat_test_set=housing.iloc[test_index]





for set_ in (strat_train_set,strat_test_set):
    set_.drop(["income_cat"],axis=1, inplace=True)





housing.plot(kind='scatter', x="longitude",	y="latitude", alpha=0.1)


housing.plot(kind='scatter', x="longitude",	y="latitude", alpha=0.1, c='median_house_value', s=housing['population']/100, figsize=(10,7),
            cmap=plt.get_cmap("jet"), colorbar=True)



