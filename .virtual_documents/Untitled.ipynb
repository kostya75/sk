import pandas as pd


housing=pd.read_csv("datasets/housing/housing.csv")


housing.head()



