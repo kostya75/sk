


import pandas as pd
import numpy as np
import matplotlib.pyplot as plt





from sklearn.model_selection import train_test_split


housing=pd.read_csv("datasets/housing/housing.csv")





housing.head()


housing.describe()
#print(housing.info())


housing.ocean_proximity.value_counts()


housing.hist(bins=50, figsize=(20,15))
plt.show()



train_set, test_set = train_test_split(housing, test_size=0.2, random_state=42)


train_set


#p57






