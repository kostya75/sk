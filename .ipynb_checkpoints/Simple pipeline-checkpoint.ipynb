{
 "cells": [
  {
   "cell_type": "code",
   "execution_count": null,
   "id": "a427ca2d-f10d-4594-9e54-d5a58196de06",
   "metadata": {},
   "outputs": [],
   "source": [
    "#1.train test split \n",
    "from sklearn.model_selection import train_test_split\n",
    "train_set, test_set = train_test_split(housing, test_size=0.2, random_state=42)\n",
    "\n",
    "# 1.a stratified train/test\n",
    "from sklearn.model_selection import StratifiedShuffleSplit\n",
    "split=StratifiedShuffleSplit(n_splits=1, random_state=42, test_size=.2)\n",
    "for train_index, test_index in split.split(housing,housing['income_cat']):\n",
    "    strat_train_set=housing.iloc[train_index]\n",
    "    strat_test_set=housing.iloc[test_index]\n",
    "\n",
    "    \n",
    "#2. imputer\n",
    "from sklearn.impute import SimpleImputer\n",
    "\n",
    "#3 not really needed\n",
    "from sklearn.preprocessing import OrdinalEncoder\n",
    "\n",
    "#4\n",
    "from sklearn.preprocessing import OneHotEncoder"
   ]
  }
 ],
 "metadata": {
  "kernelspec": {
   "display_name": "Python 3 (ipykernel)",
   "language": "python",
   "name": "python3"
  },
  "language_info": {
   "codemirror_mode": {
    "name": "ipython",
    "version": 3
   },
   "file_extension": ".py",
   "mimetype": "text/x-python",
   "name": "python",
   "nbconvert_exporter": "python",
   "pygments_lexer": "ipython3",
   "version": "3.11.5"
  }
 },
 "nbformat": 4,
 "nbformat_minor": 5
}
